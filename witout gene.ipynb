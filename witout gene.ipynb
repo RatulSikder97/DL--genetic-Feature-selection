{
 "cells": [
  {
   "cell_type": "code",
   "execution_count": 1,
   "metadata": {},
   "outputs": [],
   "source": [
    "import pandas as pd\n",
    "\n",
    "\n",
    "data = pd.read_csv(\"indoc.csv\")\n",
    "data.to_csv(\"F:\\dataP\\indoc.csv\",encoding='utf-8-sig',mode='w')"
   ]
  },
  {
   "cell_type": "code",
   "execution_count": 15,
   "metadata": {},
   "outputs": [
    {
     "name": "stdout",
     "output_type": "stream",
     "text": [
      "30000\n"
     ]
    }
   ],
   "source": [
    "import pickle as pk\n",
    "inp = open('F:\\dataP\\\\tfidfftotal30k','rb')\n",
    "\n",
    "tfidf = pk.load(inp)\n",
    "inp.close()\n",
    "print(len(tfidf[0]))\n",
    "\n"
   ]
  },
  {
   "cell_type": "code",
   "execution_count": 16,
   "metadata": {},
   "outputs": [],
   "source": [
    "from sklearn.model_selection import train_test_split \n",
    "\n",
    "from sklearn import svm\n",
    "from sklearn import preprocessing\n",
    "from sklearn.tree import DecisionTreeClassifier\n",
    "\n",
    "\n",
    "dataX = tfidf\n",
    "dataY = data['class']\n",
    "\n",
    "\n",
    "trainX, testX, trainY, testY = train_test_split(dataX, dataY, test_size = 0.2, random_state = 0,stratify=dataY)"
   ]
  },
  {
   "cell_type": "code",
   "execution_count": 5,
   "metadata": {},
   "outputs": [
    {
     "name": "stdout",
     "output_type": "stream",
     "text": [
      "240\n"
     ]
    }
   ],
   "source": [
    "print(len(testY))"
   ]
  },
  {
   "cell_type": "code",
   "execution_count": 18,
   "metadata": {},
   "outputs": [
    {
     "name": "stdout",
     "output_type": "stream",
     "text": [
      "\n",
      "Training Accuracy using NB : 1.0\n",
      "\n",
      "Test Accuracy using NB : 0.7583333333333333\n",
      "\n",
      "Confusion matrix:\n",
      " [[160   0   0   0   0   0]\n",
      " [  0 160   0   0   0   0]\n",
      " [  0   0 160   0   0   0]\n",
      " [  0   0   0 160   0   0]\n",
      " [  0   0   0   0 160   0]\n",
      " [  0   0   0   0   0 160]]\n",
      "                 precision    recall  f1-score   support\n",
      "\n",
      "           ['']       1.00      1.00      1.00       160\n",
      "['আন্তর্জাতিক']       1.00      1.00      1.00       160\n",
      "       ['খেলা']       1.00      1.00      1.00       160\n",
      "  ['দূর পরবাস']       1.00      1.00      1.00       160\n",
      "   ['বাংলাদেশ']       1.00      1.00      1.00       160\n",
      "     ['বিনোদন']       1.00      1.00      1.00       160\n",
      "\n",
      "       accuracy                           1.00       960\n",
      "      macro avg       1.00      1.00      1.00       960\n",
      "   weighted avg       1.00      1.00      1.00       960\n",
      "\n",
      "\n",
      "Confusion matrix:\n",
      " [[32  0  0  8  0  0]\n",
      " [14 19  0  4  3  0]\n",
      " [ 1  0 39  0  0  0]\n",
      " [ 2  0  0 37  0  1]\n",
      " [10  0  0  6 23  1]\n",
      " [ 3  1  0  4  0 32]]\n",
      "                 precision    recall  f1-score   support\n",
      "\n",
      "           ['']       0.52      0.80      0.63        40\n",
      "['আন্তর্জাতিক']       0.95      0.47      0.63        40\n",
      "       ['খেলা']       1.00      0.97      0.99        40\n",
      "  ['দূর পরবাস']       0.63      0.93      0.75        40\n",
      "   ['বাংলাদেশ']       0.88      0.57      0.70        40\n",
      "     ['বিনোদন']       0.94      0.80      0.86        40\n",
      "\n",
      "       accuracy                           0.76       240\n",
      "      macro avg       0.82      0.76      0.76       240\n",
      "   weighted avg       0.82      0.76      0.76       240\n",
      "\n"
     ]
    }
   ],
   "source": [
    "\n",
    "#Import model for NB\n",
    "from sklearn.naive_bayes import GaussianNB\n",
    "from sklearn.metrics import accuracy_score\n",
    "# create classifier object gor model\n",
    "model=GaussianNB()\n",
    "\n",
    "# train the model with fit function\n",
    "model.fit(trainX, trainY)\n",
    "   \n",
    "# make predictions on training data\n",
    "predictions_train = model.predict(trainX)\n",
    "print('\\nTraining Accuracy using NB :',accuracy_score(trainY, predictions_train))\n",
    "\n",
    "# make predictions on test data\n",
    "predictions_test = model.predict(testX)\n",
    "print('\\nTest Accuracy using NB :',accuracy_score(testY, predictions_test))\n",
    "\n",
    "from sklearn.metrics import classification_report, confusion_matrix, accuracy_score\n",
    " \n",
    "from sklearn.metrics import classification_report, confusion_matrix, accuracy_score\n",
    "print('\\nConfusion matrix:\\n',confusion_matrix(trainY,predictions_train))\n",
    "print(classification_report(trainY,predictions_train))  \n",
    "\n",
    "print('\\nConfusion matrix:\\n',confusion_matrix(testY,predictions_test))\n",
    "print(classification_report(testY,predictions_test)) \n"
   ]
  },
  {
   "cell_type": "code",
   "execution_count": 19,
   "metadata": {},
   "outputs": [
    {
     "name": "stdout",
     "output_type": "stream",
     "text": [
      "\n",
      "Training Accuracy using DT : 1.0\n",
      "\n",
      "Test Accuracy using DT : 0.7583333333333333\n",
      "\n",
      "Confusion matrix:\n",
      " [[160   0   0   0   0   0]\n",
      " [  0 160   0   0   0   0]\n",
      " [  0   0 160   0   0   0]\n",
      " [  0   0   0 160   0   0]\n",
      " [  0   0   0   0 160   0]\n",
      " [  0   0   0   0   0 160]]\n",
      "                 precision    recall  f1-score   support\n",
      "\n",
      "           ['']       1.00      1.00      1.00       160\n",
      "['আন্তর্জাতিক']       1.00      1.00      1.00       160\n",
      "       ['খেলা']       1.00      1.00      1.00       160\n",
      "  ['দূর পরবাস']       1.00      1.00      1.00       160\n",
      "   ['বাংলাদেশ']       1.00      1.00      1.00       160\n",
      "     ['বিনোদন']       1.00      1.00      1.00       160\n",
      "\n",
      "       accuracy                           1.00       960\n",
      "      macro avg       1.00      1.00      1.00       960\n",
      "   weighted avg       1.00      1.00      1.00       960\n",
      "\n",
      "\n",
      "Confusion matrix:\n",
      " [[26  3  0  5  4  2]\n",
      " [ 2 28  4  2  3  1]\n",
      " [ 1  1 35  2  1  0]\n",
      " [ 0  2  3 32  0  3]\n",
      " [ 2  1  2  2 32  1]\n",
      " [ 1  1  2  6  1 29]]\n",
      "                 precision    recall  f1-score   support\n",
      "\n",
      "           ['']       0.81      0.65      0.72        40\n",
      "['আন্তর্জাতিক']       0.78      0.70      0.74        40\n",
      "       ['খেলা']       0.76      0.88      0.81        40\n",
      "  ['দূর পরবাস']       0.65      0.80      0.72        40\n",
      "   ['বাংলাদেশ']       0.78      0.80      0.79        40\n",
      "     ['বিনোদন']       0.81      0.72      0.76        40\n",
      "\n",
      "       accuracy                           0.76       240\n",
      "      macro avg       0.77      0.76      0.76       240\n",
      "   weighted avg       0.77      0.76      0.76       240\n",
      "\n"
     ]
    }
   ],
   "source": [
    "\n",
    "#Import model for NB\n",
    "from sklearn.naive_bayes import GaussianNB,MultinomialNB\n",
    "from sklearn.metrics import accuracy_score\n",
    "# create classifier object gor model\n",
    "model=DecisionTreeClassifier()\n",
    "\n",
    "# train the model with fit function\n",
    "model.fit(trainX, trainY)\n",
    "   \n",
    "# make predictions on training data\n",
    "predictions_train = model.predict(trainX)\n",
    "print('\\nTraining Accuracy using DT :',accuracy_score(trainY, predictions_train))\n",
    "\n",
    "# make predictions on test data\n",
    "predictions_test = model.predict(testX)\n",
    "print('\\nTest Accuracy using DT :',accuracy_score(testY, predictions_test))\n",
    "\n",
    "\n",
    "from sklearn.metrics import classification_report, confusion_matrix, accuracy_score\n",
    "print('\\nConfusion matrix:\\n',confusion_matrix(trainY,predictions_train))\n",
    "print(classification_report(trainY,predictions_train))  \n",
    "\n",
    "print('\\nConfusion matrix:\\n',confusion_matrix(testY,predictions_test))\n",
    "print(classification_report(testY,predictions_test)) \n"
   ]
  },
  {
   "cell_type": "code",
   "execution_count": 22,
   "metadata": {},
   "outputs": [
    {
     "name": "stdout",
     "output_type": "stream",
     "text": [
      "\n",
      "Training Accuracy using SVM : 1.0\n",
      "\n",
      "Test Accuracy using SVM : 0.8708333333333333\n",
      "\n",
      "Confusion matrix:\n",
      " [[160   0   0   0   0   0]\n",
      " [  0 160   0   0   0   0]\n",
      " [  0   0 160   0   0   0]\n",
      " [  0   0   0 160   0   0]\n",
      " [  0   0   0   0 160   0]\n",
      " [  0   0   0   0   0 160]]\n",
      "                 precision    recall  f1-score   support\n",
      "\n",
      "           ['']       1.00      1.00      1.00       160\n",
      "['আন্তর্জাতিক']       1.00      1.00      1.00       160\n",
      "       ['খেলা']       1.00      1.00      1.00       160\n",
      "  ['দূর পরবাস']       1.00      1.00      1.00       160\n",
      "   ['বাংলাদেশ']       1.00      1.00      1.00       160\n",
      "     ['বিনোদন']       1.00      1.00      1.00       160\n",
      "\n",
      "       accuracy                           1.00       960\n",
      "      macro avg       1.00      1.00      1.00       960\n",
      "   weighted avg       1.00      1.00      1.00       960\n",
      "\n",
      "\n",
      "Confusion matrix:\n",
      " [[31  2  0  3  4  0]\n",
      " [ 3 33  0  1  2  1]\n",
      " [ 2  0 38  0  0  0]\n",
      " [ 2  1  0 36  0  1]\n",
      " [ 2  0  1  2 34  1]\n",
      " [ 0  2  0  1  0 37]]\n",
      "                 precision    recall  f1-score   support\n",
      "\n",
      "           ['']       0.78      0.78      0.78        40\n",
      "['আন্তর্জাতিক']       0.87      0.82      0.85        40\n",
      "       ['খেলা']       0.97      0.95      0.96        40\n",
      "  ['দূর পরবাস']       0.84      0.90      0.87        40\n",
      "   ['বাংলাদেশ']       0.85      0.85      0.85        40\n",
      "     ['বিনোদন']       0.93      0.93      0.93        40\n",
      "\n",
      "       accuracy                           0.87       240\n",
      "      macro avg       0.87      0.87      0.87       240\n",
      "   weighted avg       0.87      0.87      0.87       240\n",
      "\n"
     ]
    }
   ],
   "source": [
    "\n",
    "#Import model for NB\n",
    "from sklearn.naive_bayes import GaussianNB,MultinomialNB\n",
    "from sklearn.metrics import accuracy_score\n",
    "# create classifier object gor model\n",
    "model=svm.SVC(kernel='linear')\n",
    "\n",
    "# train the model with fit function\n",
    "model.fit(trainX, trainY)\n",
    "   \n",
    "# make predictions on training data\n",
    "predictions_train = model.predict(trainX)\n",
    "print('\\nTraining Accuracy using SVM :',accuracy_score(trainY, predictions_train))\n",
    "\n",
    "# make predictions on test data\n",
    "predictions_test = model.predict(testX)\n",
    "print('\\nTest Accuracy using SVM :',accuracy_score(testY, predictions_test))\n",
    "\n",
    "\n",
    "from sklearn.metrics import classification_report, confusion_matrix, accuracy_score\n",
    "print('\\nConfusion matrix:\\n',confusion_matrix(trainY,predictions_train))\n",
    "print(classification_report(trainY,predictions_train))  \n",
    "\n",
    "print('\\nConfusion matrix:\\n',confusion_matrix(testY,predictions_test))\n",
    "print(classification_report(testY,predictions_test)) \n"
   ]
  }
 ],
 "metadata": {
  "kernelspec": {
   "display_name": "Python 3",
   "language": "python",
   "name": "python3"
  },
  "language_info": {
   "codemirror_mode": {
    "name": "ipython",
    "version": 3
   },
   "file_extension": ".py",
   "mimetype": "text/x-python",
   "name": "python",
   "nbconvert_exporter": "python",
   "pygments_lexer": "ipython3",
   "version": "3.7.3"
  }
 },
 "nbformat": 4,
 "nbformat_minor": 2
}
